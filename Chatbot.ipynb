{
 "cells": [
  {
   "cell_type": "code",
   "execution_count": 8,
   "metadata": {},
   "outputs": [
    {
     "data": {
      "text/plain": [
       "[{'id': 1,\n",
       "  'question': 'Where do we steal the developer from?',\n",
       "  'answer': 'We nab the developer from NAB',\n",
       "  'language': 'en'},\n",
       " {'id': 2, 'question': 'What is 1+1?', 'answer': '11', 'language': 'en'},\n",
       " {'id': 3,\n",
       "  'question': 'When should you deploy to prod',\n",
       "  'answer': 'Friday afternoon',\n",
       "  'language': 'en'},\n",
       " {'id': 4,\n",
       "  'question': 'How should you be part of the team?',\n",
       "  'answer': 'You should be long in the team',\n",
       "  'language': 'en'},\n",
       " {'id': 5,\n",
       "  'question': \"What is Deep's nickname?\",\n",
       "  'answer': 'Challenger Deep',\n",
       "  'language': 'en'}]"
      ]
     },
     "execution_count": 8,
     "metadata": {},
     "output_type": "execute_result"
    }
   ],
   "source": [
    "import pandas as pd\n",
    "from elasticsearch import Elasticsearch\n",
    "from elasticsearch.helpers import bulk\n",
    "\n",
    "qabot_dataset = pd.read_csv(\"qa_dataset.csv\")\n",
    "qabot = qabot_dataset.to_dict(orient='records')\n",
    "qabot"
   ]
  },
  {
   "cell_type": "code",
   "execution_count": 13,
   "metadata": {},
   "outputs": [
    {
     "data": {
      "text/plain": [
       "(5, [])"
      ]
     },
     "execution_count": 13,
     "metadata": {},
     "output_type": "execute_result"
    }
   ],
   "source": [
    "i = 'qabot'\n",
    "es = Elasticsearch(['localhost:9200'])\n",
    "bulk(es, qabot, index=i,doc_type=\"questions\", raise_on_error=True)"
   ]
  },
  {
   "cell_type": "code",
   "execution_count": 14,
   "metadata": {},
   "outputs": [],
   "source": [
    "def chatbot_with_es():\n",
    "    running = True\n",
    "    i = 'qabot'\n",
    "    while running:\n",
    "        text = str(input('Me: '))\n",
    "        if(text == 'bye'):\n",
    "            running = False\n",
    "        else:\n",
    "            response = es.search(index=i, body={\n",
    "                \"query\": {\n",
    "                    \"match\": {\n",
    "                        'question': text\n",
    "                    }\n",
    "                }\n",
    "            })\n",
    "            try:\n",
    "                chatbot_resp = response['hits']['hits'][0]['_source']['answer']\n",
    "                print(f\"Chatbot: {chatbot_resp}\")\n",
    "            except:\n",
    "                print('Chatbot: idk')"
   ]
  },
  {
   "cell_type": "code",
   "execution_count": 15,
   "metadata": {},
   "outputs": [
    {
     "name": "stdout",
     "output_type": "stream",
     "text": [
      "Me: Hi\n",
      "Chatbot: idk\n",
      "Me: Where do we steal the developer from?\n",
      "Chatbot: We nab the developer from NAB\n",
      "Me: safsajoifa\n",
      "Chatbot: idk\n",
      "Me: deep\n",
      "Chatbot: idk\n",
      "Me: When should you deploy to prod\n",
      "Chatbot: Friday afternoon\n",
      "Me: What is 1+1?\n",
      "Chatbot: 11\n",
      "Me: bye\n"
     ]
    }
   ],
   "source": [
    "chatbot_with_es()"
   ]
  },
  {
   "cell_type": "code",
   "execution_count": 20,
   "metadata": {},
   "outputs": [],
   "source": [
    "def chatbot_with_es_fuzzy():\n",
    "    running = True\n",
    "    i = 'qabot'\n",
    "    while running:\n",
    "        text = str(input('Me: '))\n",
    "        if(text == 'bye'):\n",
    "            running = False\n",
    "        else:\n",
    "            response = es.search(index=i, body={\n",
    "                \"query\": {\n",
    "                    \"match\": {\n",
    "                        'question': {\n",
    "                            \"query\": text,\n",
    "                            \"fuzziness\": 2\n",
    "                        }\n",
    "                    }\n",
    "                }\n",
    "            })\n",
    "            try:\n",
    "                chatbot_resp = response['hits']['hits'][0]['_source']['answer']\n",
    "                print(f\"Chatbot: {chatbot_resp}\")\n",
    "            except:\n",
    "                print('Chatbot: idk')"
   ]
  },
  {
   "cell_type": "code",
   "execution_count": 21,
   "metadata": {},
   "outputs": [
    {
     "name": "stdout",
     "output_type": "stream",
     "text": [
      "Me: asd\n",
      "Chatbot: 11\n",
      "Me: sandjkakf\n",
      "Chatbot: idk\n",
      "Me: adfasdf\n",
      "Chatbot: idk\n",
      "Me: asd\n",
      "Chatbot: 11\n",
      "Me: What is 1+1?\n",
      "Chatbot: 11\n",
      "Me: whow old is eric\n",
      "Chatbot: 11\n",
      "Me: deep\n",
      "Chatbot: Challenger Deep\n",
      "Me: dep\n",
      "Chatbot: We nab the developer from NAB\n",
      "Me: derk\n",
      "Chatbot: idk\n",
      "Me: deek\n",
      "Chatbot: idk\n",
      "Me: peek\n",
      "Chatbot: idk\n",
      "Me: peed\n",
      "Chatbot: Friday afternoon\n",
      "Me: pro\n",
      "Chatbot: Friday afternoon\n",
      "Me: pod\n",
      "Chatbot: Friday afternoon\n",
      "Me: magic\n",
      "Chatbot: idk\n",
      "Me: byq\n",
      "Chatbot: You should be long in the team\n",
      "Me: byq\n",
      "Chatbot: You should be long in the team\n",
      "Me: exit\n",
      "Chatbot: idk\n",
      "Me: bie\n",
      "Chatbot: You should be long in the team\n",
      "Me: byi\n",
      "Chatbot: You should be long in the team\n",
      "Me: bya\n",
      "Chatbot: You should be long in the team\n",
      "Me: bya\n",
      "Chatbot: You should be long in the team\n",
      "Me: bye\n"
     ]
    }
   ],
   "source": [
    "chatbot_with_es_fuzzy()"
   ]
  },
  {
   "cell_type": "code",
   "execution_count": null,
   "metadata": {},
   "outputs": [],
   "source": []
  }
 ],
 "metadata": {
  "kernelspec": {
   "display_name": "Python 3",
   "language": "python",
   "name": "python3"
  },
  "language_info": {
   "codemirror_mode": {
    "name": "ipython",
    "version": 3
   },
   "file_extension": ".py",
   "mimetype": "text/x-python",
   "name": "python",
   "nbconvert_exporter": "python",
   "pygments_lexer": "ipython3",
   "version": "3.7.4"
  }
 },
 "nbformat": 4,
 "nbformat_minor": 2
}
